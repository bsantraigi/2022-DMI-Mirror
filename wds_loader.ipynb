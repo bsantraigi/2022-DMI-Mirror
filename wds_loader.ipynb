{
 "cells": [
  {
   "cell_type": "code",
   "execution_count": 1,
   "metadata": {},
   "outputs": [],
   "source": [
    "import webdataset as wds\n",
    "import json\n",
    "import tqdm"
   ]
  },
  {
   "cell_type": "code",
   "execution_count": 3,
   "metadata": {
    "scrolled": true
   },
   "outputs": [
    {
     "name": "stdout",
     "output_type": "stream",
     "text": [
      "data/r727/train_00000.tar  data/r727/train_00001.tar\n"
     ]
    }
   ],
   "source": [
    "!ls data/r727/*.tar"
   ]
  },
  {
   "cell_type": "code",
   "execution_count": 4,
   "metadata": {},
   "outputs": [],
   "source": [
    "url = \"data/r727/train_{00000..00001}.tar\""
   ]
  },
  {
   "cell_type": "code",
   "execution_count": 5,
   "metadata": {},
   "outputs": [],
   "source": [
    "ds = wds.Dataset(url)"
   ]
  },
  {
   "cell_type": "code",
   "execution_count": 6,
   "metadata": {
    "scrolled": true
   },
   "outputs": [
    {
     "name": "stderr",
     "output_type": "stream",
     "text": [
      "1308773it [09:09, 2381.70it/s]\n"
     ]
    }
   ],
   "source": [
    "for fx, sample in tqdm.tqdm(enumerate(ds)):\n",
    "#     if fx > 100:\n",
    "#         break\n",
    "    # print(sample[\"__key__\"])\n",
    "    o = (json.loads(sample['meta.json']))\n",
    "    # print(o)"
   ]
  },
  {
   "cell_type": "code",
   "execution_count": null,
   "metadata": {},
   "outputs": [],
   "source": [
    "len(ds)"
   ]
  },
  {
   "cell_type": "code",
   "execution_count": 54,
   "metadata": {},
   "outputs": [
    {
     "data": {
      "text/plain": [
       "{'context_author': 'Grimtombstone',\n",
       " 'response_author': 'Kdintranet',\n",
       " 'subreddit': 'DestinyTheGame',\n",
       " 'thread_id': '3mo8wf'}"
      ]
     },
     "execution_count": 54,
     "metadata": {},
     "output_type": "execute_result"
    }
   ],
   "source": [
    "o"
   ]
  },
  {
   "cell_type": "code",
   "execution_count": 56,
   "metadata": {},
   "outputs": [
    {
     "data": {
      "text/plain": [
       "{'__key__': 'sample-00001/00100',\n",
       " 'dialog.txt': b\"I don't want year 1 guns to return at least for 6 months. It is a nice change of pace to see no gjally's in pve and no thorns  __eou__ I saw someone using Gjally in Court of Oryx. It was a sight to behold! But I was a little shocked because I have forgotten  __eou__ Lol how did it perform? __eou__ I don't think the user got the memo. 2 rockets and Mengoor just turned around and fucked him up. __eou__ \",\n",
       " 'meta.json': b'{\"context_author\": \"Grimtombstone\", \"response_author\": \"Kdintranet\", \"subreddit\": \"DestinyTheGame\", \"thread_id\": \"3mo8wf\"}'}"
      ]
     },
     "execution_count": 56,
     "metadata": {},
     "output_type": "execute_result"
    }
   ],
   "source": [
    "sample"
   ]
  },
  {
   "cell_type": "code",
   "execution_count": 59,
   "metadata": {},
   "outputs": [
    {
     "data": {
      "text/plain": [
       "\"I don't want year 1 guns to return at least for 6 months. It is a nice change of pace to see no gjally's in pve and no thorns  __eou__ I saw someone using Gjally in Court of Oryx. It was a sight to behold! But I was a little shocked because I have forgotten  __eou__ Lol how did it perform? __eou__ I don't think the user got the memo. 2 rockets and Mengoor just turned around and fucked him up. __eou__ \""
      ]
     },
     "execution_count": 59,
     "metadata": {},
     "output_type": "execute_result"
    }
   ],
   "source": [
    "sample['dialog.txt'].decode()"
   ]
  },
  {
   "cell_type": "code",
   "execution_count": null,
   "metadata": {},
   "outputs": [],
   "source": []
  }
 ],
 "metadata": {
  "kernelspec": {
   "display_name": "Python 3",
   "language": "python",
   "name": "python3"
  },
  "language_info": {
   "codemirror_mode": {
    "name": "ipython",
    "version": 3
   },
   "file_extension": ".py",
   "mimetype": "text/x-python",
   "name": "python",
   "nbconvert_exporter": "python",
   "pygments_lexer": "ipython3",
   "version": "3.7.8"
  }
 },
 "nbformat": 4,
 "nbformat_minor": 4
}

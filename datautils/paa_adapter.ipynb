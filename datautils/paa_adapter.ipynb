{
 "cells": [
  {
   "cell_type": "code",
   "execution_count": 10,
   "id": "b152979f-e94c-4546-8cd8-268a69ca8b96",
   "metadata": {},
   "outputs": [],
   "source": [
    "import pandas as pd\n",
    "from collections import defaultdict\n",
    "import re\n",
    "import os"
   ]
  },
  {
   "cell_type": "code",
   "execution_count": 11,
   "id": "e0e65a24-219b-44c2-ab39-30306d0e8638",
   "metadata": {},
   "outputs": [],
   "source": [
    "PAA_dir = \"../data/PAA/\""
   ]
  },
  {
   "cell_type": "code",
   "execution_count": 12,
   "id": "23269802-9156-4ea4-a0b8-286e8d66e1c3",
   "metadata": {},
   "outputs": [],
   "source": [
    "df = pd.read_csv(os.path.join(PAA_dir, \"PAAData.tsv\"), delimiter=\"\\t\")"
   ]
  },
  {
   "cell_type": "code",
   "execution_count": 3,
   "id": "9320a4dd-7304-4126-8c59-c8a27134cc02",
   "metadata": {},
   "outputs": [
    {
     "data": {
      "text/html": [
       "<div>\n",
       "<style scoped>\n",
       "    .dataframe tbody tr th:only-of-type {\n",
       "        vertical-align: middle;\n",
       "    }\n",
       "\n",
       "    .dataframe tbody tr th {\n",
       "        vertical-align: top;\n",
       "    }\n",
       "\n",
       "    .dataframe thead th {\n",
       "        text-align: right;\n",
       "    }\n",
       "</style>\n",
       "<table border=\"1\" class=\"dataframe\">\n",
       "  <thead>\n",
       "    <tr style=\"text-align: right;\">\n",
       "      <th></th>\n",
       "      <th>Query</th>\n",
       "      <th>Click Counts</th>\n",
       "      <th>PAA Questions</th>\n",
       "      <th>Dynamic Questions</th>\n",
       "      <th>Session Id</th>\n",
       "      <th>Session_ Page View Count</th>\n",
       "      <th>Request_ ImpressionGuid</th>\n",
       "      <th>Request_ Front Door Impression Event Id</th>\n",
       "    </tr>\n",
       "  </thead>\n",
       "  <tbody>\n",
       "    <tr>\n",
       "      <th>0</th>\n",
       "      <td>how to clean eyeglasses that are cloudy</td>\n",
       "      <td>2</td>\n",
       "      <td>What is the best method for cleaning eyeglasse...</td>\n",
       "      <td>ClickedQ:Why are my eyeglasses always cloudy?_...</td>\n",
       "      <td>a44aa80c88bf7c7b28c95bd3f484273b</td>\n",
       "      <td>9</td>\n",
       "      <td>F9AECA1E68624BCB93FEE9BA29798588</td>\n",
       "      <td>8B1423B0B3834EF1B3FA22E9CC9E9978</td>\n",
       "    </tr>\n",
       "    <tr>\n",
       "      <th>1</th>\n",
       "      <td>descriptions of lucifer</td>\n",
       "      <td>1</td>\n",
       "      <td>Does the word 'lucifer' refer to Satan?__SUGGS...</td>\n",
       "      <td>ClickedQ:Is \"Lucifer\" the Devil in Isaiah 14?_...</td>\n",
       "      <td>4bb28b7513e2e01c50d5835d0a2ecd4b</td>\n",
       "      <td>7</td>\n",
       "      <td>A6AC0D481DF64742B81771BC6A2A50C0</td>\n",
       "      <td>FFC3253CB63E461BB6CE77171E58D726</td>\n",
       "    </tr>\n",
       "    <tr>\n",
       "      <th>2</th>\n",
       "      <td>cubital release</td>\n",
       "      <td>1</td>\n",
       "      <td>What to expect with cubital tunnel release sur...</td>\n",
       "      <td>ClickedQ:What does cubital mean?__QUERYSEP__Wh...</td>\n",
       "      <td>4142113be451752481c22a54e09aa483</td>\n",
       "      <td>4</td>\n",
       "      <td>72C1DB0F6D8A4A94ADD55A106B5FC919</td>\n",
       "      <td>7F7D6FD3F2A04E9A80D777DE50D1AA8E</td>\n",
       "    </tr>\n",
       "    <tr>\n",
       "      <th>3</th>\n",
       "      <td>china aging population</td>\n",
       "      <td>1</td>\n",
       "      <td>Why does China have an aging population proble...</td>\n",
       "      <td>ClickedQ:What does China have an ageing popula...</td>\n",
       "      <td>86e8412bc9267dd65db76f9b49d872a0</td>\n",
       "      <td>46</td>\n",
       "      <td>27768DD68AF3472CBF3C93495D924AC8</td>\n",
       "      <td>5748BDF6BAD54A51A0F602848349FCE8</td>\n",
       "    </tr>\n",
       "    <tr>\n",
       "      <th>4</th>\n",
       "      <td>if your charger isn't working</td>\n",
       "      <td>2</td>\n",
       "      <td>Why is my phone charger not working?__SUGGSEP_...</td>\n",
       "      <td>ClickedQ:Why is my phone charger not working?_...</td>\n",
       "      <td>5225c0c34a6110a09f0c1c0247ad2f4b</td>\n",
       "      <td>117</td>\n",
       "      <td>7F153EBF06CA4983981C2D8CF9D4494F</td>\n",
       "      <td>895B60AB3E784EDF9F2DB6435F800387</td>\n",
       "    </tr>\n",
       "  </tbody>\n",
       "</table>\n",
       "</div>"
      ],
      "text/plain": [
       "                                     Query  Click Counts  \\\n",
       "0  how to clean eyeglasses that are cloudy             2   \n",
       "1                  descriptions of lucifer             1   \n",
       "2                          cubital release             1   \n",
       "3                   china aging population             1   \n",
       "4            if your charger isn't working             2   \n",
       "\n",
       "                                       PAA Questions  \\\n",
       "0  What is the best method for cleaning eyeglasse...   \n",
       "1  Does the word 'lucifer' refer to Satan?__SUGGS...   \n",
       "2  What to expect with cubital tunnel release sur...   \n",
       "3  Why does China have an aging population proble...   \n",
       "4  Why is my phone charger not working?__SUGGSEP_...   \n",
       "\n",
       "                                   Dynamic Questions  \\\n",
       "0  ClickedQ:Why are my eyeglasses always cloudy?_...   \n",
       "1  ClickedQ:Is \"Lucifer\" the Devil in Isaiah 14?_...   \n",
       "2  ClickedQ:What does cubital mean?__QUERYSEP__Wh...   \n",
       "3  ClickedQ:What does China have an ageing popula...   \n",
       "4  ClickedQ:Why is my phone charger not working?_...   \n",
       "\n",
       "                         Session Id  Session_ Page View Count  \\\n",
       "0  a44aa80c88bf7c7b28c95bd3f484273b                         9   \n",
       "1  4bb28b7513e2e01c50d5835d0a2ecd4b                         7   \n",
       "2  4142113be451752481c22a54e09aa483                         4   \n",
       "3  86e8412bc9267dd65db76f9b49d872a0                        46   \n",
       "4  5225c0c34a6110a09f0c1c0247ad2f4b                       117   \n",
       "\n",
       "            Request_ ImpressionGuid Request_ Front Door Impression Event Id  \n",
       "0  F9AECA1E68624BCB93FEE9BA29798588        8B1423B0B3834EF1B3FA22E9CC9E9978  \n",
       "1  A6AC0D481DF64742B81771BC6A2A50C0        FFC3253CB63E461BB6CE77171E58D726  \n",
       "2  72C1DB0F6D8A4A94ADD55A106B5FC919        7F7D6FD3F2A04E9A80D777DE50D1AA8E  \n",
       "3  27768DD68AF3472CBF3C93495D924AC8        5748BDF6BAD54A51A0F602848349FCE8  \n",
       "4  7F153EBF06CA4983981C2D8CF9D4494F        895B60AB3E784EDF9F2DB6435F800387  "
      ]
     },
     "execution_count": 3,
     "metadata": {},
     "output_type": "execute_result"
    }
   ],
   "source": [
    "df.head()"
   ]
  },
  {
   "cell_type": "code",
   "execution_count": 4,
   "id": "f706d624-a723-4b4f-91f4-adcb9716b06f",
   "metadata": {},
   "outputs": [
    {
     "name": "stdout",
     "output_type": "stream",
     "text": [
      "Index(['Query', 'Click Counts', 'PAA Questions', 'Dynamic Questions',\n",
      "       'Session Id', 'Session_ Page View Count', 'Request_ ImpressionGuid',\n",
      "       'Request_ Front Door Impression Event Id'],\n",
      "      dtype='object')\n"
     ]
    }
   ],
   "source": [
    "print(df.columns)"
   ]
  },
  {
   "cell_type": "markdown",
   "id": "77a9e9bd-d9ca-43b5-8480-285a815e96d1",
   "metadata": {},
   "source": [
    "### Preprocess PAA sessions"
   ]
  },
  {
   "cell_type": "code",
   "execution_count": 5,
   "id": "2c7c9a22-e35c-49e6-acdc-4b1d1b8b3c79",
   "metadata": {},
   "outputs": [],
   "source": [
    "sessions = defaultdict(list)\n",
    "\n",
    "for i, row in df.iterrows():\n",
    "    sess_key = row['Session Id']\n",
    "    session_entries = row.to_dict()\n",
    "    session_entries['PAA Questions'] = session_entries['PAA Questions'].split(\"__SUGGSEP__\")\n",
    "    \n",
    "    # Interactions\n",
    "    interactions = []\n",
    "    next_interaction = session_entries['Dynamic Questions']\n",
    "#     num_interactions = re.findall(r\"__NEXT__\", curr_interaction)\n",
    "    for j in range(session_entries['Click Counts']):\n",
    "        try:\n",
    "            curr_interaction, next_interaction = next_interaction.split(\"__NEXT__\", 1)\n",
    "        except ValueError as e:\n",
    "            curr_interaction = next_interaction\n",
    "        clicked_query, follow_ups = curr_interaction.split(\"__QUERYSEP__\", 1)\n",
    "        interactions.append({\n",
    "            'clicked_q': clicked_query.replace(\"ClickedQ:\", \"\"),\n",
    "            'follow_ups': follow_ups.split(\"__SUGGSEP__\")\n",
    "        })\n",
    "    session_entries['interactions'] = interactions\n",
    "    sessions[sess_key].append(session_entries)\n",
    "            \n",
    "#     while \"__NEXT__\" in next_interaction:"
   ]
  },
  {
   "cell_type": "code",
   "execution_count": 6,
   "id": "5744d415-caf7-4810-b1df-c72ccf81739d",
   "metadata": {},
   "outputs": [
    {
     "data": {
      "text/plain": [
       "[{'Query': 'how to clean eyeglasses that are cloudy',\n",
       "  'Click Counts': 2,\n",
       "  'PAA Questions': ['What is the best method for cleaning eyeglasses?',\n",
       "   'Why are my eyeglasses always cloudy?',\n",
       "   'How do you clean film off eyeglasses?',\n",
       "   'What is the best way to clean plastic eyeglass lenses?'],\n",
       "  'Dynamic Questions': 'ClickedQ:Why are my eyeglasses always cloudy?__QUERYSEP__Why do my contact lenses seem kind of cloudy?__SUGGSEP__Why are my new glasses blurry on one side?__NEXT__ClickedQ:How do you clean film off eyeglasses?__QUERYSEP__How often should I clean my eyeglasses?__SUGGSEP__How to clean clear film from eye?',\n",
       "  'Session Id': 'a44aa80c88bf7c7b28c95bd3f484273b',\n",
       "  'Session_ Page View Count': 9,\n",
       "  'Request_ ImpressionGuid': 'F9AECA1E68624BCB93FEE9BA29798588',\n",
       "  'Request_ Front Door Impression Event Id': '8B1423B0B3834EF1B3FA22E9CC9E9978',\n",
       "  'interactions': [{'clicked_q': 'Why are my eyeglasses always cloudy?',\n",
       "    'follow_ups': ['Why do my contact lenses seem kind of cloudy?',\n",
       "     'Why are my new glasses blurry on one side?']},\n",
       "   {'clicked_q': 'How do you clean film off eyeglasses?',\n",
       "    'follow_ups': ['How often should I clean my eyeglasses?',\n",
       "     'How to clean clear film from eye?']}]}]"
      ]
     },
     "execution_count": 6,
     "metadata": {},
     "output_type": "execute_result"
    }
   ],
   "source": [
    "sessions['a44aa80c88bf7c7b28c95bd3f484273b']"
   ]
  },
  {
   "cell_type": "markdown",
   "id": "94a4a91b-08ef-4a74-b065-8446a70acec0",
   "metadata": {},
   "source": [
    "### Create Dialogs"
   ]
  },
  {
   "cell_type": "code",
   "execution_count": 17,
   "id": "908eed40-ed08-45a9-b87d-5dcb2e65e748",
   "metadata": {},
   "outputs": [
    {
     "name": "stdout",
     "output_type": "stream",
     "text": [
      "how to clean eyeglasses that are cloudy __eou__ Why are my eyeglasses always cloudy? __eou__ How do you clean film off eyeglasses? __eou__\n",
      "descriptions of lucifer __eou__ Is \"Lucifer\" the Devil in Isaiah 14? __eou__\n",
      "cubital release __eou__ What does cubital mean? __eou__\n",
      "china aging population __eou__ What does China have an ageing population? __eou__\n",
      "if your charger isn't working __eou__ Why is my phone charger not working? __eou__ Why is my phone not turning on at all? __eou__\n",
      "conservatorship __eou__ What is a conservatorship, and how does it work? __eou__\n",
      "definition day __eou__ What does day mean? __eou__ What does day mean in the Bible? __eou__\n",
      "do i need a concerled gun permit in the state of iowa __eou__ What are the gun laws in Iowa? __eou__ What states honor Iowa concealed carry permit? __eou__\n",
      "green tea benefits __eou__ What are the effects of drinking too much green tea? __eou__ What are some benefits of drinking green tea? __eou__ When to stop drinking green tea? __eou__ What are the benefits of green tea in the morning? __eou__\n",
      "anger is the psychological symptom of depression __eou__ Can depression come in anger instead of sadness? __eou__\n",
      "best beaches in north carolina __eou__ What is the most famous beach in North Carolina? __eou__\n",
      "capitalize after semi-colons __eou__ Do semicolons count as two sentences? __eou__\n",
      "grabify ip logger __eou__ How do IP grabbers work? __eou__\n",
      "how to replace a front door lock __eou__ How do you change the lock on a door? __eou__\n",
      "foot burns on top at night __eou__ What are the causes of burning feet at night and its treatment? __eou__ What medications are used to treat burning feet? __eou__\n",
      "how long will canned food stay good __eou__ What is the life expectancy of canned food? __eou__\n",
      "cover letter sample __eou__ How do you write an excellent cover letter? __eou__\n",
      "convert xfdl __eou__ What app to open XFDL? __eou__\n",
      "calories in a cheeseburger __eou__ Does cheeseburger have 500 calories? __eou__ How many calories are in a diner cheeseburger? __eou__\n",
      "how to identify a black widow __eou__ How can you tell a black widow? __eou__\n",
      "does a liqueur have alcohol __eou__ Does liqueur have alcohol? __eou__\n",
      "direct consolidation loan __eou__ How do I apply for a Direct Consolidation Loan? __eou__\n",
      "health benefits of thealine __eou__ What are theanine side effects? __eou__ What is the best theanine supplement? __eou__ What is theanine good for? __eou__\n",
      "difference between ct, ultrasound, xray __eou__ What is the difference between a CT scan and an X-ray? __eou__ What is the difference between an ultrasound and a CT scan? __eou__\n",
      "goog stock __eou__ Should I Buy Google stock? __eou__\n",
      "cefdinir antibiotic __eou__ What bacterial infections does cefdinir treat? __eou__\n",
      "immuneglobulin e __eou__ What does an elevated immunoglobulin E result indicate? __eou__ What causes elevated IgE levels? __eou__ Are high IgE levels dangerous? __eou__ What is the reason for high IG E level in the blood? __eou__ What is the normal immunoglobulin E level? __eou__ What is the treatment for high IG E level? __eou__\n",
      "disable print spooler __eou__ How do I stop print spooler? __eou__\n",
      "crcp rule 16 __eou__ What is Rule 16 in civil procedure? __eou__ What is Rule 16 in civil procedure? __eou__\n",
      "common spider bite __eou__ How do you identify spider bites? __eou__ Can a spider bite kill you? __eou__ What are the stages of a brown recluse spider bite? __eou__ Can a brown recluse kill you? __eou__\n",
      "hallmark channel __eou__ How can I watch Hallmark channels without cable? __eou__ What channels are available without cable? __eou__ What is the Optimum channel? __eou__ What channels are included in optimum core? __eou__ What is broadcast basic optimum? __eou__\n",
      "how to code on roblox studio __eou__ What code language does Roblox Studio use? __eou__\n",
      "he as a pronoun __eou__ What are acceptable pronouns? __eou__\n",
      "1922 peace silver dollar mint marks __eou__ Where is the mint mark on a 1925 Peace dollar? __eou__ What is the value of a 1926 Peace dollar? __eou__ What years were peace silver dollars made? __eou__\n",
      "ephemeral artery __eou__ What is the function of the femoral artery? __eou__\n",
      "hfs illinois medicaid __eou__ What is the phone number for Medicaid in Illinois? __eou__ What is the toll - free number for Illinois Medicaid? __eou__ How do you call Medicaid? __eou__ What is the 1 - 800 number for Medicaid? __eou__\n",
      "do amish have to pay property tax __eou__ Do Amish pay federal income taxes? __eou__\n",
      "are colors adjectives __eou__ Can colors be an adjective? __eou__\n",
      "anodyne definition __eou__ What does the name Anodyne mean? __eou__\n"
     ]
    }
   ],
   "source": [
    "superset = []\n",
    "pool = []\n",
    "for k, sess_s in sessions.items():\n",
    "    for sess in sess_s:\n",
    "        conv = []\n",
    "        conv.append(sess['Query'])\n",
    "#         conv.append(\" __comma__ \".join(sess['PAA Questions']))\n",
    "        interactions = sess['interactions']\n",
    "        for act in interactions:\n",
    "            conv.append(act['clicked_q'])\n",
    "#             conv.append(\" __comma__ \".join(act['follow_ups']))\n",
    "        superset.append(conv)\n",
    "    \n",
    "with open(os.path.join(PAA_dir, \"train_dialogues.txt\"), \"w\") as f:\n",
    "    for line in superset:\n",
    "        line = \" __eou__ \".join(line) + \" __eou__\"\n",
    "        print(line)\n",
    "        f.write(line + \"\\n\")"
   ]
  },
  {
   "cell_type": "markdown",
   "id": "e6463ac7-7f7e-498f-bdb3-902da2a2bb9e",
   "metadata": {},
   "source": [
    "### Incorporating all system options"
   ]
  },
  {
   "cell_type": "code",
   "execution_count": 18,
   "id": "2c28a601-86b5-441d-a96d-912498ecfa6f",
   "metadata": {},
   "outputs": [
    {
     "name": "stdout",
     "output_type": "stream",
     "text": [
      "how to clean eyeglasses that are cloudy __eou__ What is the best method for cleaning eyeglasses? __comma__ Why are my eyeglasses always cloudy? __comma__ How do you clean film off eyeglasses? __comma__ What is the best way to clean plastic eyeglass lenses? __eou__ Why are my eyeglasses always cloudy? __eou__ Why do my contact lenses seem kind of cloudy? __comma__ Why are my new glasses blurry on one side? __eou__ How do you clean film off eyeglasses? __eou__ How often should I clean my eyeglasses? __comma__ How to clean clear film from eye?__eou__\n",
      "descriptions of lucifer __eou__ Does the word 'lucifer' refer to Satan? __comma__ Why is Satan sometimes called Lucifer? __comma__ Is \"Lucifer\" the Devil in Isaiah 14? __comma__ What does the Bible say about Lucifers role in Heaven? __eou__ Is \"Lucifer\" the Devil in Isaiah 14? __eou__ Why is 'Lucifer' referred to as 'son of the morning'?__eou__\n",
      "cubital release __eou__ What to expect with cubital tunnel release surgery? __comma__ What does cubital mean? __comma__ Can you have cubital and carpal? __comma__ What is the CPT code for cubital tunnel release? __eou__ What does cubital mean? __eou__ What does cubital tunnel syndrome mean? __comma__ What's the difference cubital and carpal tunnel?__eou__\n",
      "china aging population __eou__ Why does China have an aging population problem? __comma__ What does China have an ageing population? __comma__ Why is there an overpopulation problem in China? __comma__ What are facts about overpopulation in China? __eou__ What does China have an ageing population? __eou__ What are the problems with aging population? __comma__ What is the age structure of China?__eou__\n",
      "if your charger isn't working __eou__ Why is my phone charger not working? __comma__ Why does my laptop charger stop working? __comma__ Why is my Lenovo Charger not working? __comma__ Why is my wireless charging not working? __eou__ Why is my phone charger not working? __eou__ Why is my phone not connecting with computer? __comma__ Why is my phone not turning on at all? __eou__ Why is my phone not turning on at all? __eou__ What to do if your Android phone won't turn on? __comma__ Why does my iPhone not power up?__eou__\n",
      "conservatorship __eou__ What is a conservatorship, and how does it work? __comma__ What are the pros and cons of a conservatorship? __comma__ What do you need to know about a conservatorship? __comma__ How do I establish a conservatorship? __eou__ What is a conservatorship, and how does it work? __eou__ Is guardianship and Conservatorship the same thing? __comma__ What are the alternatives to a conservatorship?__eou__\n",
      "definition day __eou__ What does day mean? __comma__ What does day mean in the Bible? __comma__ What is the definition of the word day? __comma__ What is the legal definition of a day? __eou__ What does day mean? __eou__ What do days of the week mean? __comma__ What is the definition of daytime? __eou__ What does day mean in the Bible? __eou__ What does 3 days mean in the Bible? __comma__ What is the Hebrew word for day?__eou__\n",
      "do i need a concerled gun permit in the state of iowa __eou__ What are the gun laws in Iowa? __comma__ Which states issue concealed weapons permits? __comma__ How do you get a gun license in Iowa? __comma__ What states honor Iowa concealed carry permit? __eou__ What are the gun laws in Iowa? __eou__ What is a dangerous weapon in Iowa? __comma__ What do you need to buy a gun in Iowa? __eou__ What states honor Iowa concealed carry permit? __eou__ What states is my carry permit recognized? __comma__ What states have reciprocal concealed carry?__eou__\n",
      "green tea benefits __eou__ What are some benefits of drinking green tea? __comma__ What are the effects of drinking too much green tea? __comma__ Is green tea healthier than black tea? __comma__ How many times a day should you drink green tea? __eou__ What are the effects of drinking too much green tea? __eou__ When to stop drinking green tea? __comma__ What are the harmful effects of tea? __eou__ What are some benefits of drinking green tea? __eou__ What are the health benefits of tea? __comma__ What is the most beneficial green tea? __eou__ When to stop drinking green tea? __eou__ When should take green tea,before or after meals? __comma__ What are the benefits of green tea in the morning? __eou__ What are the benefits of green tea in the morning? __eou__ What is the best tea for the morning? __comma__ Does green tea make you stay awake at night?__eou__\n",
      "anger is the psychological symptom of depression __eou__ How does anger affect depression? __comma__ Is this form of anger a symptom of major depression? __comma__ Can depression come in anger instead of sadness? __comma__ Can depression cause intense anger? __eou__ Can depression come in anger instead of sadness? __eou__ Why do I feel angry and depressed? __comma__ What is depression with rage?__eou__\n",
      "best beaches in north carolina __eou__ What is the most famous beach in North Carolina? __comma__ What is the best family beach in North Carolina? __comma__ What is the best beach vacation in North Carolina? __comma__ What are the best coastal towns in North Carolina? __eou__ What is the most famous beach in North Carolina? __eou__ What is NC coast? __comma__ Is Carolina Beach NC safe?__eou__\n",
      "capitalize after semi-colons __eou__ Do semicolons count as two sentences? __comma__ Where to put semi colons? __comma__ When to not use a semicolon? __comma__ When should you use a semicolon? __eou__ Do semicolons count as two sentences? __eou__ Are colons used interchangeably with semi-colons? __comma__ What's the difference between commas, colons and semicolons?__eou__\n",
      "grabify ip logger __eou__ What is grabify link? __comma__ How do IP grabbers work? __comma__ What is IP log? __eou__ How do IP grabbers work? __eou__ What does IP mean and how it works? __comma__ What is an IP catcher?__eou__\n",
      "how to replace a front door lock __eou__ How do you change the lock on a door? __comma__ How do you change locks on doors? __comma__ How do you lock a door without a lock? __comma__ How do you change door locks on a car? __eou__ How do you change the lock on a door? __eou__ How much does it cost to change locks? __comma__ How do you install an exterior door handle?__eou__\n",
      "foot burns on top at night __eou__ What are the causes of burning feet at night and its treatment? __comma__ Why do I get pain in my toe at night? __comma__ What medications are used to treat burning feet? __comma__ Why do my toes burn at night? __eou__ What are the causes of burning feet at night and its treatment? __eou__ What causes tingling feet at night? __comma__ What causes hot feet at night? __eou__ What medications are used to treat burning feet? __eou__ What is the best medication for foot pain? __comma__ Should you see Doctor for burns on the feet?__eou__\n",
      "how long will canned food stay good __eou__ What is the life expectancy of canned food? __comma__ How long does canned food stay good in the dish? __comma__ How long can you live on canned foods? __comma__ How long is canned food in general safe to eat? __eou__ What is the life expectancy of canned food? __eou__ What is the shelf life of home canned goods? __comma__ Is it OK to eat expired canned foods?__eou__\n",
      "cover letter sample __eou__ How do you write an excellent cover letter? __comma__ How do you write a simple cover letter? __comma__ What are some ideas for a cover letter? __comma__ What is an example of a general cover letter? __eou__ How do you write an excellent cover letter? __eou__ What is the proper format for a cover letter? __comma__ What is a good title for a cover letter?__eou__\n",
      "convert xfdl __eou__ What app to open XFDL? __comma__ What is a XFDL file? __comma__ What is XFDL file? __eou__ What app to open XFDL? __eou__ How to open XTD files? __comma__ How do I open DNG files?__eou__\n",
      "calories in a cheeseburger __eou__ Does cheeseburger have 500 calories? __comma__ How many calories are in a diner cheeseburger? __comma__ How much calories are in a cheese burger? __comma__ How many calories are in a Braum's cheesburger? __eou__ Does cheeseburger have 500 calories? __eou__ How many carbs in a cheeseburger without Bun? __comma__ How many calories are in a cheeseburger with ketchup only? __eou__ How many calories are in a diner cheeseburger? __eou__ How many carbs in Burger King cheeseburger? __comma__ How many grams of fat are in a hamburger patty?__eou__\n",
      "how to identify a black widow __eou__ How can you tell a black widow? __comma__ What does a black widow symbolize? __comma__ What are the characteristics of a black widow? __comma__ What is the classification of a black widow? __eou__ How can you tell a black widow? __eou__ What it's like to be bitten by a black widow? __comma__ How many people die from Black Widows?__eou__\n",
      "does a liqueur have alcohol __eou__ What liquor has the highest alcohol? __comma__ Does liqueur have alcohol? __comma__ What alcoholic drink has the highest alcohol content? __comma__ What types of alcohol are considered hard liquor? __eou__ Does liqueur have alcohol? __eou__ Does liqueur ever go bad? __comma__ Is there a difference between liquor and whiskey?__eou__\n",
      "direct consolidation loan __eou__ How do I apply for a Direct Consolidation Loan? __comma__ How does the Federal Direct Consolidation Loan work? __comma__ How do I consolidate loans? __comma__ Can I consolidate consolidation loans? __eou__ How do I apply for a Direct Consolidation Loan? __eou__ What are student loans eligible for consolidation? __comma__ What can I include in a debt consolidation loan?__eou__\n",
      "health benefits of thealine __eou__ What are theanine side effects? __comma__ What is the best theanine supplement? __comma__ What is theanine good for? __comma__ When to take theanine? __eou__ What are theanine side effects? __eou__ Should you try theanine for anxiety? __comma__ Will L theanine Make you Sleepy? __eou__ What is the best theanine supplement? __eou__ Which is better caffeine theanine ratio? __comma__ Is it safe to take L theanine with buspirone? __eou__ What is theanine good for? __eou__ Is theanine a stimulant? __comma__ Why is L theanine good in pre workouts?__eou__\n",
      "difference between ct, ultrasound, xray __eou__ What is the difference between a CT scan and an X-ray? __comma__ What to expect when getting a CT scan? __comma__ What is the difference between an ultrasound and a CT scan? __comma__ What is the difference between an IVP and a CT scan? __eou__ What is the difference between a CT scan and an X-ray? __eou__ When to get a CT scan or X-ray? __comma__ Which is better MRI or CAT scan? __eou__ What is the difference between an ultrasound and a CT scan? __eou__ What are the benefits of CT scan over MRI? __comma__ What is the cost of a CT scan?__eou__\n",
      "goog stock __eou__ Should I Buy Google stock? __comma__ Is Google stock overvalued? __comma__ What companies does Google own? __comma__ Will Google stock split? __eou__ Should I Buy Google stock? __eou__ What is the ticker symbol for Google? __comma__ How do you buy a share in Google?__eou__\n",
      "cefdinir antibiotic __eou__ What bacterial infections does cefdinir treat? __comma__ What bacteria does cefdinir treat? __comma__ What are the side effects of cefdinir? __comma__ What is cefdinir used for treating? __eou__ What bacterial infections does cefdinir treat? __eou__ What kind of bacterial infections does ciprofloxacin treat? __comma__ Does cefdinir contain penicillin?__eou__\n",
      "immuneglobulin e __eou__ What does an elevated immunoglobulin E result indicate? __comma__ What is the normal immunoglobulin E level? __comma__ What causes elevated IgE levels? __comma__ How can one reduce IgE level naturally? __eou__ What does an elevated immunoglobulin E result indicate? __eou__ What does a high immunoglobulin A blood level mean? __comma__ What is normal IgE range? __eou__ What causes elevated IgE levels? __eou__ Are high IgE levels dangerous? __comma__ What does low IgE blood test mean? __eou__ Are high IgE levels dangerous? __eou__ What are symptoms of elevated IgE? __comma__ What is the reason for high IG E level in the blood? __eou__ What is the reason for high IG E level in the blood? __eou__ What is the treatment for high IG E level? __eou__ What is the normal immunoglobulin E level? __eou__ What does a low immunoglobulin level mean? __comma__ What does high serum IgE mean? __eou__ What is the treatment for high IG E level? __eou__ What are anti - IgE antibodies?__eou__\n",
      "disable print spooler __eou__ How do I stop print spooler? __comma__ How do I restart my printer spooler? __comma__ How can I restore print spooler? __comma__ How do I Fix my print spooler? __eou__ How do I stop print spooler? __eou__ Why does print spooler service keep stopping? __comma__ How do you restart a printer?__eou__\n",
      "crcp rule 16 __eou__ What is Rule 16 in civil procedure? __comma__ What is Rule 16 discovery? __comma__ What is a proposed case management order? __comma__ What is criminal rule 16? __eou__ What is Rule 16 in civil procedure? __eou__ What are federal court rules? __comma__ What is a rule 16 conference? __eou__ What is Rule 16 in civil procedure? __eou__ What is a federal civil procedure? __comma__ What to expect at a pretrial conference?__eou__\n",
      "common spider bite __eou__ What are the most common spider bite symptoms? __comma__ What is the best treatment for a spider bite? __comma__ What is the best medication for spider bites? __comma__ How do you identify spider bites? __eou__ How do you identify spider bites? __eou__ Can a spider bite kill you? __comma__ How to prevent and avoid bites from spiders? __eou__ Can a spider bite kill you? __eou__ What are spiders poisonous to humans? __comma__ What are the stages of a brown recluse spider bite? __eou__ What are the stages of a brown recluse spider bite? __eou__ Can a brown recluse kill you? __comma__ How do you treat a brown recluse bite? __eou__ Can a brown recluse kill you? __eou__ Does brown recluse bite hurt? __comma__ What attracts brown recluse spiders?__eou__\n",
      "hallmark channel __eou__ Is there a way to get the Hallmark Channel? __comma__ How can I watch Hallmark channels without cable? __comma__ Does Hallmark Channel stream live? __comma__ How do you get the Hallmark Channel on Roku? __eou__ How can I watch Hallmark channels without cable? __eou__ What channels are available without cable? __comma__ Does Hulu offer hallmark? __eou__ What channels are available without cable? __eou__ What is the Optimum channel? __comma__ What are the best TV networks? __eou__ What is the Optimum channel? __eou__ What channels are included in optimum core? __comma__ What channel is pay per view on optimum? __eou__ What channels are included in optimum core? __eou__ What is optimum core TV? __comma__ What is broadcast basic optimum? __eou__ What is broadcast basic optimum? __eou__ What channel is CBS Sports Network on optimum? __comma__ What channel is MSNBC on optimum?__eou__\n",
      "how to code on roblox studio __eou__ What code language does Roblox Studio use? __comma__ How do you script on Roblox? __comma__ How do you make your game on Roblox? __comma__ How do you get started in Roblox Studio? __eou__ What code language does Roblox Studio use? __eou__ How to code Lua Roblox? __comma__ Which language is the best for coding?__eou__\n",
      "he as a pronoun __eou__ What are acceptable pronouns? __comma__ Why do people use pronouns? __comma__ What is list of pronouns? __comma__ What is the pronoun for him? __eou__ What are acceptable pronouns? __eou__ How do I Use Your pronouns correctly? __comma__ Why is it important to respect people's pronouns?__eou__\n",
      "1922 peace silver dollar mint marks __eou__ Where is the mint mark on a 1925 Peace dollar? __comma__ What percent of silver is a 1922 Peace dollar? __comma__ How much silver in a 1922 silver dollar? __comma__ What is the value of a 1922 US Peace silver dollar? __eou__ Where is the mint mark on a 1925 Peace dollar? __eou__ What is the value of a 1926 Peace dollar? __comma__ What years were peace silver dollars made? __eou__ What is the value of a 1926 Peace dollar? __eou__ What is the value of a 1927 Peace dollar? __comma__ What is the value 1926 Liberty Coin? __eou__ What years were peace silver dollars made? __eou__ What is a Peace dollar? __comma__ How much is an old silver dollar worth?__eou__\n",
      "ephemeral artery __eou__ Where is the common femoral artery located? __comma__ What is the superficial femoral artery? __comma__ What is the function of the femoral artery? __comma__ What are the branches of the femoral artery? __eou__ What is the function of the femoral artery? __eou__ What is the function of the common femoral vein? __comma__ What is the arterial pressure in the femoral artery?__eou__\n",
      "hfs illinois medicaid __eou__ How do you contact Illinois Medicaid? __comma__ What are the benefits of Illinois Medicaid? __comma__ What is the phone number for Medicaid in Illinois? __comma__ What is the toll - free number for Illinois Medicaid? __eou__ What is the phone number for Medicaid in Illinois? __eou__ What is the 1 - 800 number for Medicaid? __comma__ How do you call Medicaid? __eou__ What is the toll - free number for Illinois Medicaid? __eou__ How can you look up your Medicaid number? __comma__ How to determine eligibility for Medicaid in Illinois? __eou__ How do you call Medicaid? __eou__ How do I contact Medicare? __comma__ What is the waiting period for Medicaid? __eou__ What is the 1 - 800 number for Medicaid? __eou__ Where can I find a doctor that accepts Medicare and Medicaid? __comma__ Who is eligible for Medicare Medicaid?__eou__\n",
      "do amish have to pay property tax __eou__ Do Amish pay federal income taxes? __comma__ Are Amish tax exempt? __comma__ Do Mennonites pay taxes? __eou__ Do Amish pay federal income taxes? __eou__ Who is exempt from paying income taxes? __comma__ Do Amish have SSN?__eou__\n",
      "are colors adjectives __eou__ Can colors be an adjective? __comma__ Are colors nouns? __comma__ What are descriptive colors? __comma__ Is colorful an adjective? __eou__ Can colors be an adjective? __eou__ How do you describe color? __comma__ How to use \"colour\" in a sentence?__eou__\n",
      "anodyne definition __eou__ What does the name Anodyne mean? __comma__ What does anodyne health mean? __comma__ What is the opposite of anodyne? __eou__ What does the name Anodyne mean? __eou__ How does anodyne therapy work? __comma__ What is anodyne infrared light therapy?__eou__\n"
     ]
    }
   ],
   "source": [
    "for k, sess_s in sessions.items():\n",
    "    for sess in sess_s:\n",
    "        conv = []\n",
    "        conv.append(sess['Query'])\n",
    "        conv.append(\" __comma__ \".join(sess['PAA Questions']))\n",
    "        interactions = sess['interactions']\n",
    "        for act in interactions:\n",
    "            conv.append(act['clicked_q'])\n",
    "            conv.append(\" __comma__ \".join(act['follow_ups']))\n",
    "        print(\" __eou__ \".join(conv) + \"__eou__\")"
   ]
  },
  {
   "cell_type": "code",
   "execution_count": null,
   "id": "5edb457d-c7d1-4bbc-9363-51fdfb086670",
   "metadata": {},
   "outputs": [],
   "source": []
  }
 ],
 "metadata": {
  "kernelspec": {
   "display_name": "Python 3",
   "language": "python",
   "name": "python3"
  },
  "language_info": {
   "codemirror_mode": {
    "name": "ipython",
    "version": 3
   },
   "file_extension": ".py",
   "mimetype": "text/x-python",
   "name": "python",
   "nbconvert_exporter": "python",
   "pygments_lexer": "ipython3",
   "version": "3.8.5"
  }
 },
 "nbformat": 4,
 "nbformat_minor": 5
}

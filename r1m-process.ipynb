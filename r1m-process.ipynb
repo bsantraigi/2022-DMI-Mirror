{
 "cells": [
  {
   "cell_type": "code",
   "execution_count": 1,
   "id": "b7b01b40-0a1c-4b69-9312-2e8ff4ec8edf",
   "metadata": {},
   "outputs": [],
   "source": [
    "import re\n",
    "import os\n",
    "import pandas as pd\n",
    "import numpy as np\n",
    "import tqdm"
   ]
  },
  {
   "cell_type": "code",
   "execution_count": 2,
   "id": "2ecf36d3-6787-47bd-ad49-1c089068c6e0",
   "metadata": {},
   "outputs": [],
   "source": [
    "from datautils import data_dialog\n",
    "from transformers import BertTokenizer"
   ]
  },
  {
   "cell_type": "code",
   "execution_count": 3,
   "id": "ac0ba075-bbd2-4fd1-9db5-933c533ea6e9",
   "metadata": {},
   "outputs": [
    {
     "data": {
      "text/plain": [
       "1"
      ]
     },
     "execution_count": 3,
     "metadata": {},
     "output_type": "execute_result"
    }
   ],
   "source": [
    "tokenizer = BertTokenizer.from_pretrained(\"bert-base-uncased\")\n",
    "tokenizer.add_special_tokens({'sep_token': '__eou__'})"
   ]
  },
  {
   "cell_type": "code",
   "execution_count": 4,
   "id": "4c36bc7f-2aec-4fa0-a1e2-cf11eee4aca0",
   "metadata": {},
   "outputs": [],
   "source": [
    "# data = data_dialog.DialogData(\"./data/reddit_1M/train_dialogues.txt\", tokenizer)\n",
    "def load_dialogs(path):\n",
    "    dialogs = []\n",
    "    with open(path) as f:\n",
    "        for line in tqdm.auto.tqdm(f, desc=\"Loading data\"):\n",
    "            # if len(self.data) > max_items:\n",
    "            #     break  # Enough for now\n",
    "            Full_D = line.strip().strip(\"__eou__\").split(\" __eou__ \")\n",
    "            if len(Full_D) >= 2:\n",
    "                dialogs.append(Full_D)\n",
    "#                 for j in range(2, len(Full_D) + 1):\n",
    "#                     D = Full_D[:j]\n",
    "#                     C = \" __eou__ \".join(D[:-1]).strip()\n",
    "#                     R = D[-1].strip()\n",
    "                    # mid = len(D)//2\n",
    "                    # C = \" __eou__ \".join(D[:mid])\n",
    "                    # R = \" __eou__ \".join(D[mid:])\n",
    "    return dialogs"
   ]
  },
  {
   "cell_type": "code",
   "execution_count": 5,
   "id": "3f14a4b8-cd4c-4d91-83b8-6894bf483d82",
   "metadata": {},
   "outputs": [],
   "source": [
    "data_dir = \"./data/reddit_1M/\"\n",
    "# use glob.glob to search\n",
    "data_file = \"train_dialogues.txt\""
   ]
  },
  {
   "cell_type": "code",
   "execution_count": 65,
   "id": "4fc75ca6-4ea1-475e-8fd8-64f1fa9faf55",
   "metadata": {},
   "outputs": [
    {
     "data": {
      "application/vnd.jupyter.widget-view+json": {
       "model_id": "b8ad3b81c67c493eb6d847b99fbce01c",
       "version_major": 2,
       "version_minor": 0
      },
      "text/plain": [
       "HBox(children=(HTML(value='Loading data'), FloatProgress(value=1.0, bar_style='info', layout=Layout(width='20p…"
      ]
     },
     "metadata": {},
     "output_type": "display_data"
    },
    {
     "name": "stdout",
     "output_type": "stream",
     "text": [
      "\n"
     ]
    }
   ],
   "source": [
    "train_dialogs = load_dialogs(data_dir + data_file)\n",
    "# train_dialogs = load_dialogs(\"./data/dailydialog/dialogues_train.txt\")"
   ]
  },
  {
   "cell_type": "code",
   "execution_count": 72,
   "id": "4a0a40d9-3345-4347-a9d5-ff96d25df13b",
   "metadata": {},
   "outputs": [],
   "source": [
    "ext1 = r\"io|com|org|net|us|co|biz|info|jobs|mobi|name|ly|tel|kitchen|email|tech|estate|xyz|codes|bargains|bid|expert|int|mil|edu|gov|ca|cn|fr|ch|au|in|de|jp|nl|uk|mx|no|ru|br|se|es\"\n",
    "extensions = r\"gt|cy|kg|jobs|coop|ag|li|pa|qa|uz|ly|al|so|mn|cr|dz|md|bz|travel|im|la|ke|lu|ba|do|uy|name|mk|ve|xyz|club|is|eg|bd|cat|ec|pw|am|nu|ma|ge|sa|asia|lk|to|fm|kz|xxx|country|pro|tk|ng|ee|th|si|xn--p1ai|ws|mobi|ph|lv|ae|rs|hr|pe|az|su|bg|gov|pk|lt|by|my|ie|nz|sg|hk|io|cl|il|pt|cc|fi|sk|id|no|dk|be|us|ar|at|ch|hu|me|biz|edu|se|vn|ro|mx|tr|tv|za|eu|co|cz|ua|tw|kr|ca|gr|es|nl|au|ir|info|cn|fr|it|pl|in|uk|br|jp|de|org|ru|net|com\""
   ]
  },
  {
   "cell_type": "code",
   "execution_count": 73,
   "id": "62592c77-80b7-4772-b36a-6f7b2d4a4eee",
   "metadata": {},
   "outputs": [],
   "source": [
    "url_reg = re.compile(r\"([a-zA-Z0-9]+://)?([\\w]{2,}\\.){1,}(\" + ext1 + r\"|\" + extensions + r\")([/?]([^ \\n()\\'\\\"]+))?\")"
   ]
  },
  {
   "cell_type": "code",
   "execution_count": 78,
   "id": "7488c6f4-a11f-4fa5-85d0-31c416d00808",
   "metadata": {},
   "outputs": [
    {
     "data": {
      "application/vnd.jupyter.widget-view+json": {
       "model_id": "9a50bea516ea4899b88ebf68dcae1a18",
       "version_major": 2,
       "version_minor": 0
      },
      "text/plain": [
       "HBox(children=(HTML(value=''), FloatProgress(value=0.0, max=6000.0), HTML(value='')))"
      ]
     },
     "metadata": {},
     "output_type": "display_data"
    },
    {
     "name": "stdout",
     "output_type": "stream",
     "text": [
      "\n"
     ]
    }
   ],
   "source": [
    "word_reg = re.compile(r\"[ ]+\")\n",
    "# url_reg = re.compile(r\"([a-zA-Z0-9]+://)?([\\w]{2,}\\.){1,}(io|com|org|net|us|co|biz|info|jobs|mobi|name|ly|tel|kitchen|email|tech|estate|xyz|codes|bargains|bid|expert|int|mil|edu|gov|ca|cn|fr|ch|au|in|de|jp|nl|uk|mx|no|ru|br|se|es)([/?]([^ \\n()\\'\\\"]+))?\")\n",
    "post_title_regex = re.compile(r\"<selfbr>\")\n",
    "\n",
    "stats = []\n",
    "filtered_data = []\n",
    "urls = []\n",
    "for d_raw in tqdm.auto.tqdm(train_dialogs[:6000]):\n",
    "    if len(d_raw) < 2:\n",
    "        continue\n",
    "    d = \" __eou__ \".join(d_raw)\n",
    "\n",
    "    # selfbr removal (comes after title of the post)\n",
    "    d = post_title_regex.sub(\":\", d)\n",
    "    \n",
    "    wd = word_reg.split(d)\n",
    "    \n",
    "    # first utterance\n",
    "    first_utt_len = len(word_reg.split(d_raw[0]))\n",
    "    \n",
    "    \n",
    "    \n",
    "    # url filter\n",
    "    L = list(url_reg.finditer(d))\n",
    "    d = url_reg.sub(\"[URL]\", d)\n",
    "    if L is not None:\n",
    "        urls.extend([match.group() for match in L])\n",
    "\n",
    "    # length filter\n",
    "    ll_utt = [1 for u in d.split(\" __eou__ \") if len(u.split(\" \")) > 80]\n",
    "    avg_utt_len = np.mean([len(u.split(\" \")) for u in d.split(\" __eou__ \")])\n",
    "    \n",
    "    # if avg_utt_len > 60:\n",
    "    #     print(d.replace(\"__eou__\", \"\\n\\n>>\\t\"))\n",
    "    #     print(\"=====================================\\n\")\n",
    "    this_stat = {\n",
    "        'urls': len(L),\n",
    "        'avg_utt_len': avg_utt_len,\n",
    "        'very_long_utt': len(ll_utt),\n",
    "        'turns': len(d.split(\"__eou__\")),\n",
    "        'first_utt_len': first_utt_len\n",
    "    }\n",
    "    stats.append(this_stat)\n",
    "    \n",
    "    if this_stat['urls'] < 3 and this_stat['avg_utt_len'] <= 50 and \\\n",
    "        this_stat['avg_utt_len'] > 3 and this_stat['first_utt_len'] > 4 and \\\n",
    "        this_stat['very_long_utt'] == 0:\n",
    "        filtered_data.append(d + \" __eou__\")"
   ]
  },
  {
   "cell_type": "code",
   "execution_count": 79,
   "id": "a6b9ce33-4f1c-4669-8ea3-8993b8828b98",
   "metadata": {},
   "outputs": [
    {
     "name": "stdout",
     "output_type": "stream",
     "text": [
      "salvaged 2584 dialogs\n"
     ]
    }
   ],
   "source": [
    "print(f\"salvaged {len(filtered_data)} dialogs\")"
   ]
  },
  {
   "cell_type": "code",
   "execution_count": 80,
   "id": "f83d9476-aa4c-4806-a644-9e519a446da4",
   "metadata": {},
   "outputs": [],
   "source": [
    "df_stats = pd.DataFrame(stats)"
   ]
  },
  {
   "cell_type": "code",
   "execution_count": 81,
   "id": "43fa4074-d404-41ce-9b33-d8570154ec58",
   "metadata": {},
   "outputs": [
    {
     "data": {
      "text/html": [
       "<div>\n",
       "<style scoped>\n",
       "    .dataframe tbody tr th:only-of-type {\n",
       "        vertical-align: middle;\n",
       "    }\n",
       "\n",
       "    .dataframe tbody tr th {\n",
       "        vertical-align: top;\n",
       "    }\n",
       "\n",
       "    .dataframe thead th {\n",
       "        text-align: right;\n",
       "    }\n",
       "</style>\n",
       "<table border=\"1\" class=\"dataframe\">\n",
       "  <thead>\n",
       "    <tr style=\"text-align: right;\">\n",
       "      <th></th>\n",
       "      <th>urls</th>\n",
       "      <th>avg_utt_len</th>\n",
       "      <th>very_long_utt</th>\n",
       "      <th>turns</th>\n",
       "      <th>first_utt_len</th>\n",
       "    </tr>\n",
       "  </thead>\n",
       "  <tbody>\n",
       "    <tr>\n",
       "      <th>count</th>\n",
       "      <td>6000.000000</td>\n",
       "      <td>6000.000000</td>\n",
       "      <td>6000.00000</td>\n",
       "      <td>6000.000000</td>\n",
       "      <td>6000.000000</td>\n",
       "    </tr>\n",
       "    <tr>\n",
       "      <th>mean</th>\n",
       "      <td>0.716333</td>\n",
       "      <td>55.614190</td>\n",
       "      <td>0.83050</td>\n",
       "      <td>4.801500</td>\n",
       "      <td>108.532333</td>\n",
       "    </tr>\n",
       "    <tr>\n",
       "      <th>std</th>\n",
       "      <td>3.449954</td>\n",
       "      <td>62.008011</td>\n",
       "      <td>1.05386</td>\n",
       "      <td>1.313285</td>\n",
       "      <td>204.931811</td>\n",
       "    </tr>\n",
       "    <tr>\n",
       "      <th>min</th>\n",
       "      <td>0.000000</td>\n",
       "      <td>1.166667</td>\n",
       "      <td>0.00000</td>\n",
       "      <td>4.000000</td>\n",
       "      <td>1.000000</td>\n",
       "    </tr>\n",
       "    <tr>\n",
       "      <th>25%</th>\n",
       "      <td>0.000000</td>\n",
       "      <td>21.191667</td>\n",
       "      <td>0.00000</td>\n",
       "      <td>4.000000</td>\n",
       "      <td>16.000000</td>\n",
       "    </tr>\n",
       "    <tr>\n",
       "      <th>50%</th>\n",
       "      <td>0.000000</td>\n",
       "      <td>38.750000</td>\n",
       "      <td>1.00000</td>\n",
       "      <td>4.000000</td>\n",
       "      <td>55.000000</td>\n",
       "    </tr>\n",
       "    <tr>\n",
       "      <th>75%</th>\n",
       "      <td>1.000000</td>\n",
       "      <td>67.148810</td>\n",
       "      <td>1.00000</td>\n",
       "      <td>5.000000</td>\n",
       "      <td>118.250000</td>\n",
       "    </tr>\n",
       "    <tr>\n",
       "      <th>max</th>\n",
       "      <td>168.000000</td>\n",
       "      <td>1065.750000</td>\n",
       "      <td>8.00000</td>\n",
       "      <td>30.000000</td>\n",
       "      <td>4598.000000</td>\n",
       "    </tr>\n",
       "  </tbody>\n",
       "</table>\n",
       "</div>"
      ],
      "text/plain": [
       "              urls  avg_utt_len  very_long_utt        turns  first_utt_len\n",
       "count  6000.000000  6000.000000     6000.00000  6000.000000    6000.000000\n",
       "mean      0.716333    55.614190        0.83050     4.801500     108.532333\n",
       "std       3.449954    62.008011        1.05386     1.313285     204.931811\n",
       "min       0.000000     1.166667        0.00000     4.000000       1.000000\n",
       "25%       0.000000    21.191667        0.00000     4.000000      16.000000\n",
       "50%       0.000000    38.750000        1.00000     4.000000      55.000000\n",
       "75%       1.000000    67.148810        1.00000     5.000000     118.250000\n",
       "max     168.000000  1065.750000        8.00000    30.000000    4598.000000"
      ]
     },
     "execution_count": 81,
     "metadata": {},
     "output_type": "execute_result"
    }
   ],
   "source": [
    "df_stats.describe()"
   ]
  },
  {
   "cell_type": "code",
   "execution_count": 82,
   "id": "36df9c9d-ca2e-49c3-8533-480a731285ea",
   "metadata": {},
   "outputs": [
    {
     "data": {
      "text/plain": [
       "(2270, 5)"
      ]
     },
     "execution_count": 82,
     "metadata": {},
     "output_type": "execute_result"
    }
   ],
   "source": [
    "df_stats.loc[df_stats.avg_utt_len > 50].shape"
   ]
  },
  {
   "cell_type": "code",
   "execution_count": 83,
   "id": "f0dedac7-d8c3-4e34-acb0-71bbc026ddcc",
   "metadata": {},
   "outputs": [
    {
     "data": {
      "text/plain": [
       "(23, 5)"
      ]
     },
     "execution_count": 83,
     "metadata": {},
     "output_type": "execute_result"
    }
   ],
   "source": [
    "df_stats.loc[df_stats.avg_utt_len < 4].shape"
   ]
  },
  {
   "cell_type": "code",
   "execution_count": 84,
   "id": "69bfed84-95b2-4fb3-9840-4c891b4e8e60",
   "metadata": {},
   "outputs": [
    {
     "data": {
      "text/plain": [
       "(365, 5)"
      ]
     },
     "execution_count": 84,
     "metadata": {},
     "output_type": "execute_result"
    }
   ],
   "source": [
    "df_stats.loc[df_stats.urls > 2].shape"
   ]
  },
  {
   "cell_type": "code",
   "execution_count": 85,
   "id": "4e59916b-87b8-457a-ac40-bce6065f34c3",
   "metadata": {},
   "outputs": [
    {
     "data": {
      "text/plain": [
       "(3112, 5)"
      ]
     },
     "execution_count": 85,
     "metadata": {},
     "output_type": "execute_result"
    }
   ],
   "source": [
    "df_stats.loc[df_stats.very_long_utt > 0].shape"
   ]
  },
  {
   "cell_type": "code",
   "execution_count": 86,
   "id": "a4261220-1733-48d3-9542-f51ee0f3992f",
   "metadata": {},
   "outputs": [
    {
     "data": {
      "text/plain": [
       "(137, 5)"
      ]
     },
     "execution_count": 86,
     "metadata": {},
     "output_type": "execute_result"
    }
   ],
   "source": [
    "df_stats.loc[df_stats.first_utt_len < 4].shape"
   ]
  },
  {
   "cell_type": "code",
   "execution_count": 87,
   "id": "ac36ecf7-9997-4163-9668-86d601a0def3",
   "metadata": {},
   "outputs": [],
   "source": [
    "try:\n",
    "    os.makedirs(os.path.join(data_dir, \"filtered/\"))\n",
    "except FileExistsError:\n",
    "    pass"
   ]
  },
  {
   "cell_type": "code",
   "execution_count": 88,
   "id": "4647f2f2-faa1-432a-b151-dbe73c62bacc",
   "metadata": {},
   "outputs": [],
   "source": [
    "with open(os.path.join(data_dir, \"filtered/\", data_file), \"w\") as outf:\n",
    "    for line in filtered_data:\n",
    "        outf.write(line + \"\\n\")"
   ]
  },
  {
   "cell_type": "code",
   "execution_count": 90,
   "id": "a5e60baa-24b5-48d5-a6d6-0e84b7889b5e",
   "metadata": {},
   "outputs": [],
   "source": [
    "# urls"
   ]
  },
  {
   "cell_type": "code",
   "execution_count": null,
   "id": "36bede3f-cc67-422e-9ca2-f1ec400fb046",
   "metadata": {},
   "outputs": [],
   "source": []
  }
 ],
 "metadata": {
  "kernelspec": {
   "display_name": "Python 3",
   "language": "python",
   "name": "python3"
  },
  "language_info": {
   "codemirror_mode": {
    "name": "ipython",
    "version": 3
   },
   "file_extension": ".py",
   "mimetype": "text/x-python",
   "name": "python",
   "nbconvert_exporter": "python",
   "pygments_lexer": "ipython3",
   "version": "3.8.5"
  }
 },
 "nbformat": 4,
 "nbformat_minor": 5
}
